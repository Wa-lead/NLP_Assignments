{
 "cells": [
  {
   "cell_type": "code",
   "execution_count": 1,
   "metadata": {},
   "outputs": [
    {
     "name": "stderr",
     "output_type": "stream",
     "text": [
      "Tokenizer Version 1.1\n",
      "Language: en\n",
      "Number of threads: 1\n",
      "Tokenizer Version 1.1\n",
      "Language: en\n",
      "Number of threads: 1\n",
      "Tokenizer Version 1.1\n",
      "Language: en\n",
      "Number of threads: 1\n",
      "Tokenizer Version 1.1\n",
      "Language: en\n",
      "Number of threads: 1\n"
     ]
    }
   ],
   "source": [
    "import time\n",
    "import os\n",
    "\n",
    "def tokenize(text: str) -> None:\n",
    "    \"\"\"Tokenize a text using a tokenizer.\n",
    "    Args:\n",
    "        tokenizer (str): The name of the tokenizer.\n",
    "        text (str): The text to tokenize.\n",
    "    Returns:\n",
    "        list: The list of tokens.\n",
    "    \"\"\"\n",
    "    # Simple tokenizer\n",
    "    time.sleep(2)\n",
    "    os.system(f'perl tokenizer.pl -no-escape < ../English-Mix/{text} > ../English-Mix/{text}.tok')\n",
    "    time.sleep(2)\n",
    "    # lowercase\n",
    "    os.system(f'tr \\'[:upper:]\\' \\'[:lower:]\\' < ../English-Mix/{text}.tok > ../English-Mix/{text}.tok.lc')\n",
    "    time.sleep(2)\n",
    "    # porter stemmer\n",
    "    os.system(f'perl porter.pl < ../English-Mix/{text}.tok.lc > ../English-Mix/{text}.tok.lc.port')\n",
    "    # BPE\n",
    "    time.sleep(2)\n",
    "    os.system(f'subword-nmt apply-bpe -c ../    os.system(f'subword-nmt learn-bpe -s 10000 < ../English-Mix/{text}.tok.lc > ../English-Mix/{text}_learned.txt')\n",
    "English-Mix/UNCorpus.train_learned.txt < ../English-Mix/{text}.tok.lc > ../English-Mix/{text}.tok.lc.bpe')\n",
    "    \n",
    "    \n",
    "\n",
    "texts = ['UNCorpus.train', 'UNCorpus.test', 'Wiki.test', 'Fair.test']\n",
    "for text in texts:\n",
    "    tokenize(text)"
   ]
  }
 ],
 "metadata": {
  "kernelspec": {
   "display_name": "base",
   "language": "python",
   "name": "python3"
  },
  "language_info": {
   "codemirror_mode": {
    "name": "ipython",
    "version": 3
   },
   "file_extension": ".py",
   "mimetype": "text/x-python",
   "name": "python",
   "nbconvert_exporter": "python",
   "pygments_lexer": "ipython3",
   "version": "3.9.12"
  },
  "orig_nbformat": 4
 },
 "nbformat": 4,
 "nbformat_minor": 2
}
