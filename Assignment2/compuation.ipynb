{
 "cells": [
  {
   "cell_type": "code",
   "execution_count": 2,
   "metadata": {},
   "outputs": [
    {
     "data": {
      "text/plain": [
       "0.2183007475560667"
      ]
     },
     "execution_count": 2,
     "metadata": {},
     "output_type": "execute_result"
    }
   ],
   "source": [
    "3037/13912"
   ]
  },
  {
   "attachments": {},
   "cell_type": "markdown",
   "metadata": {},
   "source": [
    "# Different tokenzations"
   ]
  },
  {
   "cell_type": "code",
   "execution_count": 5,
   "metadata": {},
   "outputs": [
    {
     "name": "stdout",
     "output_type": "stream",
     "text": [
      "/bin/bash: English-Mix/{UNCorpus.train}: No such file or directory\n"
     ]
    },
    {
     "name": "stderr",
     "output_type": "stream",
     "text": [
      "Can't open perl script \"tokenizer.pl\": No such file or directory\n",
      "Can't open perl script \"porter.pl\": No such file or directory\n",
      "Traceback (most recent call last):\n",
      "  File \"/opt/miniconda3/bin/subword-nmt\", line 8, in <module>\n",
      "    sys.exit(main())\n",
      "  File \"/opt/miniconda3/lib/python3.9/site-packages/subword_nmt/subword_nmt.py\", line 48, in main\n",
      "    learn_bpe(args.input, args.output, args.symbols, args.min_frequency, args.verbose, \n",
      "  File \"/opt/miniconda3/lib/python3.9/site-packages/subword_nmt/learn_bpe.py\", line 302, in learn_bpe\n",
      "    threshold = max(stats.values()) / 10\n",
      "ValueError: max() arg is an empty sequence\n",
      "Error: invalid line 1 in BPE codes file: \n",
      "The line should exist of exactly two subword units, separated by whitespace\n"
     ]
    }
   ],
   "source": [
    "import time\n",
    "import os\n",
    "\n",
    "def tokenize(text: str) -> None:\n",
    "    \"\"\"Tokenize a text using a tokenizer.\n",
    "    Args:\n",
    "        tokenizer (str): The name of the tokenizer.\n",
    "        text (str): The text to tokenize.\n",
    "    Returns:\n",
    "        list: The list of tokens.\n",
    "    \"\"\"\n",
    "    # Simple tokenizer\n",
    "    os.system('cd tools')\n",
    "    time.sleep(2)\n",
    "    os.system(f'perl tokenizer.pl -no-escape < English-Mix/{text} > English-Mix/{text}.tok')\n",
    "    !perl tokenizer.pl -no-escape < English-Mix/{UNCorpus.train} > English-Mix/UNCorpus.train.tok\n",
    "    time.sleep(2)\n",
    "    # lowercase\n",
    "    os.system(f'tr \\'[:upper:]\\' \\'[:lower:]\\' < English-Mix/{text}.tok > English-Mix/{text}.tok.lc')\n",
    "    time.sleep(2)\n",
    "    # porter stemmer\n",
    "    os.system(f'perl porter.pl < English-Mix/{text}.tok.lc > English-Mix/{text}.tok.lc.port')\n",
    "    # BPE\n",
    "    os.system(f'subword-nmt learn-bpe -s 1000 < English-Mix/{text}.tok.lc > English-Mix/{text}.tok.lc.bpe')\n",
    "    time.sleep(2)\n",
    "    os.system(f'subword-nmt apply-bpe -c English-Mix/{text}.tok.lc.bpe < English-Mix/{text}.tok.lc > English-Mix/{text}.tok.lc.bpe')\n",
    "    \n",
    "    \n",
    "\n",
    "tokenize('UNCorpus.train')"
   ]
  },
  {
   "cell_type": "code",
   "execution_count": 12,
   "metadata": {},
   "outputs": [
    {
     "name": "stdout",
     "output_type": "stream",
     "text": [
      "100%|##########################################| 50/50 [00:00<00:00, 193.90it/s]\n"
     ]
    }
   ],
   "source": [
    "!subword-nmt learn-bpe -s {50} < English-Mix/UNCorpus.train > test.txt\n",
    "!subword-nmt apply-bpe -c test.txt < English-Mix/UNCorpus.train > test_vpe.txt"
   ]
  }
 ],
 "metadata": {
  "kernelspec": {
   "display_name": "base",
   "language": "python",
   "name": "python3"
  },
  "language_info": {
   "codemirror_mode": {
    "name": "ipython",
    "version": 3
   },
   "file_extension": ".py",
   "mimetype": "text/x-python",
   "name": "python",
   "nbconvert_exporter": "python",
   "pygments_lexer": "ipython3",
   "version": "3.9.12"
  },
  "orig_nbformat": 4
 },
 "nbformat": 4,
 "nbformat_minor": 2
}
