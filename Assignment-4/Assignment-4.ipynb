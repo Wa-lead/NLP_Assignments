{
 "cells": [
  {
   "attachments": {},
   "cell_type": "markdown",
   "metadata": {},
   "source": [
    "# Text Classification\n",
    "\n",
    "In this assignment you are required to perform text classification on App review dataset consisting of 4 classes:\n",
    "- Bug reports\n",
    "- Feature\n",
    "- Rating\n",
    "- UserExperience\n",
    "\n",
    "There are a total of 3733 samples. You need to:\n",
    "- Split the data into train/validate/test sets (70/15/15) using random seed '777' with shuffling.\n",
    "- You need to investigate issues of stop-words, infrequent words, text normalization (stemming, lemmatization, other issues of word tokenization like case normalization, punctuations). Additionally, you can also apply techniques to solve data imbalance problem. \n",
    "- You need to report appropriate measures like accuracy, precision, recall, and f1 scores (you can classification report api)\n",
    "- You should show the confusion matrix for the validation and test sets\n",
    "\n",
    "***Note:***\n",
    "- Student getting the best macro-average F1-Score receives 15% bonus grades\n",
    "- Student getting the second-best macro-average F1-Score receives 10% bonus grades\n",
    "- Student getting the third-best macro-average F1-Score receives 5% bonus grades"
   ]
  },
  {
   "attachments": {},
   "cell_type": "markdown",
   "metadata": {},
   "source": [
    "## 1. Read the dataset and split it into different sets\n",
    "**[20 points]** for invesitaging issues of stop-words, infrequent words, text normalization (stemming, lemmatization, other issues of word tokenization), dataset imbalance"
   ]
  },
  {
   "cell_type": "code",
   "execution_count": 124,
   "metadata": {},
   "outputs": [],
   "source": [
    "import pandas as pd\n",
    "import numpy as np\n",
    "import matplotlib.pyplot as plt\n",
    "from sklearn.model_selection import train_test_split\n",
    "from pprint import pprint"
   ]
  },
  {
   "cell_type": "code",
   "execution_count": 125,
   "metadata": {},
   "outputs": [],
   "source": [
    "df = pd.read_csv('data/AppReviews-FourClasses.csv')\n",
    "df['label'].value_counts()\n",
    "X_train = df['Review']\n",
    "y_train = df['label']\n",
    "y_train = y_train.map({'Bug': 0, 'Feature': 1, 'Rating': 2, 'UserExperience': 3})"
   ]
  },
  {
   "attachments": {},
   "cell_type": "markdown",
   "metadata": {},
   "source": [
    "#### Understanding label distribution"
   ]
  },
  {
   "cell_type": "code",
   "execution_count": 126,
   "metadata": {},
   "outputs": [
    {
     "data": {
      "text/plain": [
       "2    2461\n",
       "3     607\n",
       "0     370\n",
       "1     295\n",
       "Name: label, dtype: int64"
      ]
     },
     "execution_count": 126,
     "metadata": {},
     "output_type": "execute_result"
    }
   ],
   "source": [
    "y_train.value_counts()"
   ]
  },
  {
   "attachments": {},
   "cell_type": "markdown",
   "metadata": {},
   "source": [
    "#### Deal with imbalance data"
   ]
  },
  {
   "cell_type": "code",
   "execution_count": 127,
   "metadata": {},
   "outputs": [],
   "source": [
    "from imblearn.over_sampling import SMOTE\n",
    "def oversample(X_train, y_train):\n",
    "    \"\"\"\n",
    "    Oversamples the data using SMOTE\n",
    "    \"\"\"\n",
    "    sm = SMOTE(random_state=777)\n",
    "    X_train, y_train = sm.fit_resample(X_train, y_train)\n",
    "    X_train = pd.DataFrame(X_train)\n",
    "    y_train = pd.DataFrame(y_train)\n",
    "    return X_train, y_train\n"
   ]
  },
  {
   "cell_type": "code",
   "execution_count": 128,
   "metadata": {},
   "outputs": [],
   "source": [
    "X_train, X_test, y_train, y_test = train_test_split(X_train, y_train, test_size=0.3, random_state=777, stratify=y_train)\n",
    "X_val, X_test, y_val, y_test = train_test_split(X_test, y_test, test_size=0.5, random_state=777, stratify=y_test)"
   ]
  },
  {
   "attachments": {},
   "cell_type": "markdown",
   "metadata": {},
   "source": [
    "### Preprocessing"
   ]
  },
  {
   "cell_type": "code",
   "execution_count": 129,
   "metadata": {},
   "outputs": [],
   "source": [
    "from nltk.corpus import stopwords\n",
    "from nltk.probability import FreqDist\n",
    "from nltk.stem import WordNetLemmatizer\n",
    "import string\n",
    "\n",
    "stop_words = set(stopwords.words('english'))\n",
    "lemmatizer = WordNetLemmatizer()\n",
    "\n",
    "def preprocess(X: np.array):\n",
    "    X = [preprocess_sentence(x) for x in X]\n",
    "    return X\n",
    "\n",
    "def preprocess_sentence(x: str):\n",
    "    \"\"\"\n",
    "    Preprocesses a sentence\n",
    "    lower -> remove punctuation -> lemmatize\n",
    "    \"\"\"\n",
    "    # Lowercase\n",
    "    x = x.lower()\n",
    "    # Remove punctuation\n",
    "    x = x.translate(str.maketrans('', '', string.punctuation))\n",
    "    # lemmitize\n",
    "    x = x.split()\n",
    "    x = [lemmatizer.lemmatize(word) for word in x if word not in stop_words]\n",
    "    x = ' '.join(x)\n",
    "    return x\n",
    "\n",
    "X_train = preprocess(X_train)"
   ]
  },
  {
   "attachments": {},
   "cell_type": "markdown",
   "metadata": {},
   "source": [
    "#### Draw count distribution of words to determine threshold"
   ]
  },
  {
   "cell_type": "code",
   "execution_count": 130,
   "metadata": {},
   "outputs": [
    {
     "data": {
      "image/png": "[encoded data removed]",
      "text/plain": [
       "<Figure size 640x480 with 1 Axes>"
      ]
     },
     "metadata": {},
     "output_type": "display_data"
    }
   ],
   "source": [
    "tokens = [word for sentence in X_train for word in sentence.split()]\n",
    "fdist = FreqDist(tokens)\n",
    "freq = np.array(list(fdist.values()))\n",
    "plt.hist(freq, bins=50, edgecolor='black')\n",
    "plt.xlabel('Frequency')\n",
    "plt.ylabel('Number of Words')\n",
    "plt.title('Word Frequency Distribution')\n",
    "plt.show()\n"
   ]
  },
  {
   "cell_type": "code",
   "execution_count": 131,
   "metadata": {},
   "outputs": [],
   "source": [
    "def remove_infrequent_words(X: np.array, low_bound: int = None, up_bound: int = None, words: list = None):\n",
    "    \"\"\"\n",
    "    Removes words that are infrequent\n",
    "    \"\"\"\n",
    "    if words is None:\n",
    "        discarded_words = [word for word in fdist if fdist[word] < low_bound or fdist[word] > up_bound]\n",
    "        X = [[word for word in sentence.split() if fdist[word] >= low_bound and fdist[word] <= up_bound] for sentence in X]\n",
    "        X = [' '.join(sentence) for sentence in X]\n",
    "        return X, discarded_words\n",
    "    else:\n",
    "        X = [[word for word in sentence.split() if word not in words] for sentence in X]\n",
    "        X = [' '.join(sentence) for sentence in X]\n",
    "        return X\n",
    "\n",
    "X_train, discarded_words = remove_infrequent_words(X_train, 5, 1000)"
   ]
  },
  {
   "attachments": {},
   "cell_type": "markdown",
   "metadata": {},
   "source": [
    "## 2. [15 points] Perform text classification using bag-of-words features\n",
    "In this part, you can use any classifier of your choice such as logistic regression or neural networks"
   ]
  },
  {
   "cell_type": "code",
   "execution_count": 132,
   "metadata": {},
   "outputs": [],
   "source": [
    "# from sklearn.model_selection import \n",
    "from sklearn.model_selection import KFold\n",
    "from sklearn.model_selection import RandomizedSearchCV\n",
    "from sklearn.model_selection import RandomizedSearchCV\n",
    "\n",
    "param_grid = {\n",
    "    'learning_rate': [0.1, 0.2, 0.3],\n",
    "    'max_depth': [3, 4, 5, 7, 10, 15, 20, 25, 30],\n",
    "    'n_estimators': [100, 200, 300, 400, 500],\n",
    "    'subsample': [0.5, 0.6, 0.7, 0.8, 0.9],\n",
    "    'colsample_bytree': [0.5, 0.6, 0.7, 0.8, 0.9],\n",
    "    'colsample_bylevel': [0.5, 0.6, 0.7, 0.8, 0.9],\n",
    "    'reg_alpha': [0, 0.001, 0.005, 0.01, 0.05],\n",
    "    'reg_lambda': [0, 0.001, 0.005, 0.01, 0.05]\n",
    "}\n",
    "\n",
    "def model_random_search(X_train, y_train, X_val, y_val, model):\n",
    "    \"\"\"\n",
    "    Trains and evaluates the model using 5-fold cross validation\n",
    "    \"\"\"\n",
    "    if type(y_train) == pd.core.frame.DataFrame:\n",
    "        if y_train.shape[1] == 1:\n",
    "            y_train = y_train['label']\n",
    "        else:\n",
    "            y_train = y_train.to_numpy()\n",
    "            \n",
    "    if type(y_val) == pd.core.frame.DataFrame:\n",
    "        if y_val.shape[1] == 1:\n",
    "            y_val = y_val['label']\n",
    "        else:\n",
    "            y_val = y_val.to_numpy()\n",
    "    \n",
    "   # Merge train and validation sets\n",
    "    X_train = np.concatenate((X_train, X_val), axis=0)\n",
    "    y_train = np.concatenate((y_train, y_val), axis=0)\n",
    "    # Train and evaluate model\n",
    "    scores = []\n",
    "    random_search = RandomizedSearchCV(model, param_grid, cv=2, n_iter=4, random_state=777, verbose=2, n_jobs=-1)\n",
    "    random_search.fit(X_train, y_train)\n",
    "    print(\"Best parameters:\", random_search.best_params_)\n",
    "    print(\"Best cross-validation score:\", random_search.best_score_)\n",
    "    model = random_search.best_estimator_\n",
    "    return model, random_search.best_params_, random_search.best_score_\n",
    "\n",
    "    "
   ]
  },
  {
   "cell_type": "code",
   "execution_count": 133,
   "metadata": {},
   "outputs": [],
   "source": [
    "from sklearn.feature_extraction.text import CountVectorizer\n",
    "from sklearn.decomposition import PCA\n",
    "\n",
    "def generate_bag_of_words(X: np.array):\n",
    "    \"\"\"\n",
    "    Generates a bag of words from the given corpus\n",
    "    \"\"\"\n",
    "    vectorizer = CountVectorizer()\n",
    "    X = vectorizer.fit_transform(X)\n",
    "    return X, vectorizer\n",
    "\n",
    "def pca(X: np.array, explain=0.95):\n",
    "    \"\"\"\n",
    "    Performs PCA on the given data\n",
    "    \"\"\"\n",
    "    pca = PCA(n_components=explain)\n",
    "    X = pca.fit_transform(X)\n",
    "    return X, pca\n",
    "    \n",
    "    "
   ]
  },
  {
   "cell_type": "code",
   "execution_count": 134,
   "metadata": {},
   "outputs": [
    {
     "name": "stdout",
     "output_type": "stream",
     "text": [
      "Fitting 2 folds for each of 4 candidates, totalling 8 fits\n",
      "[CV] END colsample_bylevel=0.7, colsample_bytree=0.5, learning_rate=0.3, max_depth=15, n_estimators=100, reg_alpha=0.01, reg_lambda=0.001, subsample=0.6; total time=  34.1s\n",
      "[CV] END colsample_bylevel=0.7, colsample_bytree=0.5, learning_rate=0.3, max_depth=15, n_estimators=100, reg_alpha=0.01, reg_lambda=0.001, subsample=0.6; total time=  34.3s\n",
      "[CV] END colsample_bylevel=0.8, colsample_bytree=0.9, learning_rate=0.1, max_depth=30, n_estimators=100, reg_alpha=0.05, reg_lambda=0.005, subsample=0.5; total time= 1.5min\n",
      "[CV] END colsample_bylevel=0.8, colsample_bytree=0.9, learning_rate=0.1, max_depth=30, n_estimators=100, reg_alpha=0.05, reg_lambda=0.005, subsample=0.5; total time= 1.5min\n",
      "[CV] END colsample_bylevel=0.6, colsample_bytree=0.6, learning_rate=0.1, max_depth=25, n_estimators=400, reg_alpha=0.005, reg_lambda=0.05, subsample=0.6; total time= 2.9min\n",
      "[CV] END colsample_bylevel=0.6, colsample_bytree=0.6, learning_rate=0.1, max_depth=25, n_estimators=400, reg_alpha=0.005, reg_lambda=0.05, subsample=0.6; total time= 2.9min\n",
      "[CV] END colsample_bylevel=0.9, colsample_bytree=0.7, learning_rate=0.1, max_depth=20, n_estimators=500, reg_alpha=0.01, reg_lambda=0.05, subsample=0.9; total time= 6.4min\n",
      "[CV] END colsample_bylevel=0.9, colsample_bytree=0.7, learning_rate=0.1, max_depth=20, n_estimators=500, reg_alpha=0.01, reg_lambda=0.05, subsample=0.9; total time= 6.5min\n",
      "Best parameters: {'subsample': 0.9, 'reg_lambda': 0.05, 'reg_alpha': 0.01, 'n_estimators': 500, 'max_depth': 20, 'learning_rate': 0.1, 'colsample_bytree': 0.7, 'colsample_bylevel': 0.9}\n",
      "Best cross-validation score: 0.6099033816425121\n",
      "{'colsample_bylevel': 0.9,\n",
      " 'colsample_bytree': 0.7,\n",
      " 'learning_rate': 0.1,\n",
      " 'max_depth': 20,\n",
      " 'n_estimators': 500,\n",
      " 'reg_alpha': 0.01,\n",
      " 'reg_lambda': 0.05,\n",
      " 'subsample': 0.9}\n",
      "0.6099033816425121\n",
      "              precision    recall  f1-score   support\n",
      "\n",
      "           0       0.40      0.36      0.38        55\n",
      "           1       0.16      0.22      0.18        45\n",
      "           2       0.69      0.65      0.67       369\n",
      "           3       0.17      0.19      0.18        91\n",
      "\n",
      "    accuracy                           0.51       560\n",
      "   macro avg       0.35      0.36      0.35       560\n",
      "weighted avg       0.54      0.51      0.52       560\n",
      "\n"
     ]
    }
   ],
   "source": [
    "from xgboost import XGBClassifier\n",
    "from sklearn.ensemble import RandomForestClassifier\n",
    "from sklearn.metrics import classification_report\n",
    "\n",
    "\n",
    "X_train_bag, vectorizer = generate_bag_of_words(X_train)\n",
    "X_train_bag = X_train_bag.toarray()\n",
    "X_train_bag, y_train_bag = oversample(X_train_bag, y_train)\n",
    "# X_train_bag, pca = pca(X_train_bag)\n",
    "\n",
    "\n",
    "X_val = preprocess(X_val)\n",
    "X_val = remove_infrequent_words(X_val, words=discarded_words)\n",
    "X_val_bag = vectorizer.transform(X_val)\n",
    "X_val_bag = X_val_bag.toarray()\n",
    "# X_val_bag = pca.transform(X_val_bag)\n",
    "\n",
    "X_test = preprocess(X_test)\n",
    "X_test = remove_infrequent_words(X_test, words=discarded_words)\n",
    "X_test_bag = vectorizer.transform(X_test)\n",
    "X_test_bag = X_test_bag.toarray()\n",
    "# X_test_bag = pca.transform(X_test_bag)\n",
    "\n",
    "\n",
    "xgboost = XGBClassifier()\n",
    "xgboost, best_params, best_score = model_random_search(X_train_bag, y_train_bag, X_val_bag, y_val, xgboost)\n",
    "\n",
    "y_pred = xgboost.predict(X_test_bag)\n",
    "\n",
    "pprint(best_params)\n",
    "pprint(best_score)\n",
    "print(classification_report(y_test, y_pred))"
   ]
  },
  {
   "attachments": {},
   "cell_type": "markdown",
   "metadata": {},
   "source": [
    "## 3. [15 points] Perform text classification using tf-idf features\n",
    "In this part, you can use any classifier of your choice such as logistic regression or neural networks"
   ]
  },
  {
   "cell_type": "code",
   "execution_count": 135,
   "metadata": {},
   "outputs": [],
   "source": [
    "from sklearn.feature_extraction.text import TfidfVectorizer\n",
    "\n",
    "def generate_tfidf(X: np.array):\n",
    "    \"\"\"\n",
    "    Generates a bag of words from the given corpus\n",
    "    \"\"\"\n",
    "    vectorizer = TfidfVectorizer()\n",
    "    X = vectorizer.fit_transform(X)\n",
    "    return X, vectorizer"
   ]
  },
  {
   "cell_type": "code",
   "execution_count": 138,
   "metadata": {},
   "outputs": [
    {
     "name": "stdout",
     "output_type": "stream",
     "text": [
      "{'colsample_bylevel': 0.8,\n",
      " 'colsample_bytree': 0.9,\n",
      " 'learning_rate': 0.1,\n",
      " 'max_depth': 30,\n",
      " 'n_estimators': 100,\n",
      " 'reg_alpha': 0.05,\n",
      " 'reg_lambda': 0.005,\n",
      " 'subsample': 0.5}\n",
      "0.8625872249060655\n",
      "              precision    recall  f1-score   support\n",
      "\n",
      "           0       0.53      0.55      0.54        55\n",
      "           1       0.22      0.16      0.18        45\n",
      "           2       0.75      0.80      0.78       369\n",
      "           3       0.26      0.22      0.24        91\n",
      "\n",
      "    accuracy                           0.63       560\n",
      "   macro avg       0.44      0.43      0.43       560\n",
      "weighted avg       0.61      0.63      0.62       560\n",
      "\n"
     ]
    }
   ],
   "source": [
    "\n",
    "X_train_tf, vectorizer = generate_tfidf(X_train)\n",
    "X_train_tf = X_train_tf.toarray()\n",
    "X_train_tf, y_train_tf = oversample(X_train_tf, y_train)\n",
    "\n",
    "X_val = preprocess(X_val)\n",
    "X_val = remove_infrequent_words(X_val, words=discarded_words)\n",
    "X_val_tf = vectorizer.transform(X_val)\n",
    "X_val_tf = X_val_tf.toarray()\n",
    "\n",
    "X_test = preprocess(X_test)\n",
    "X_test = remove_infrequent_words(X_test, words=discarded_words)\n",
    "X_test_tf = vectorizer.transform(X_test)\n",
    "X_test_tf = X_test_tf.toarray()\n",
    "\n",
    "model = XGBClassifier()\n",
    "xgboost, best_params, best_score = model_random_search(X_train_tf, y_train_tf, X_val_tf, y_val, model)\n",
    "\n",
    "y_pred = xgboost.predict(X_test_tf)\n",
    "\n",
    "pprint(best_params)\n",
    "pprint( best_score)\n",
    "print(classification_report(y_test, y_pred))\n"
   ]
  },
  {
   "attachments": {},
   "cell_type": "markdown",
   "metadata": {},
   "source": [
    "## 4. [20 points] Perform text classification using dense vectors like word2vec or Glove embeddings\n",
    "In this part, you can use any classifier of your choice such as logistic regression or neural networks. You can download and use precomputed embeddings or create your own word2vec style embeddings using libraries such as ```gensim``` (from gensim.models import Word2Vec)"
   ]
  },
  {
   "cell_type": "code",
   "execution_count": 139,
   "metadata": {},
   "outputs": [],
   "source": [
    "import gensim\n",
    "# Create Word2Vec embeddings\n",
    "sentences = [sentence.split() for sentence in X_train]\n",
    "model = gensim.models.Word2Vec(sentences, min_count=1)\n",
    "\n",
    "# Generate word embeddings\n",
    "word_embeddings = model.wv\n",
    "# Create an instance of CountVectorizer using the word embeddings\n",
    "vectorizer = CountVectorizer(vocabulary=word_embeddings.index_to_key)"
   ]
  },
  {
   "cell_type": "code",
   "execution_count": 141,
   "metadata": {},
   "outputs": [
    {
     "name": "stdout",
     "output_type": "stream",
     "text": [
      "{'colsample_bylevel': 0.9,\n",
      " 'colsample_bytree': 0.7,\n",
      " 'learning_rate': 0.1,\n",
      " 'max_depth': 20,\n",
      " 'n_estimators': 500,\n",
      " 'reg_alpha': 0.01,\n",
      " 'reg_lambda': 0.05,\n",
      " 'subsample': 0.9}\n",
      "0.6116478797638218\n",
      "              precision    recall  f1-score   support\n",
      "\n",
      "           0       0.44      0.38      0.41        55\n",
      "           1       0.17      0.24      0.20        45\n",
      "           2       0.70      0.64      0.67       369\n",
      "           3       0.17      0.20      0.18        91\n",
      "\n",
      "    accuracy                           0.51       560\n",
      "   macro avg       0.37      0.37      0.36       560\n",
      "weighted avg       0.54      0.51      0.53       560\n",
      "\n"
     ]
    }
   ],
   "source": [
    "# Generate the bag-of-words feat`ures\n",
    "X_train_word = vectorizer.fit_transform(X_train)\n",
    "# Convert the features to an array\n",
    "X_train_word = X_train_word.toarray()\n",
    "X_train_word, y_train_word = oversample(X_train_word, y_train)\n",
    "\n",
    "X_val = preprocess(X_val)\n",
    "X_val = remove_infrequent_words(X_val, words=discarded_words)\n",
    "X_val_word = vectorizer.transform(X_val)\n",
    "X_val_word = X_val_word.toarray()\n",
    "\n",
    "\n",
    "X_test = preprocess(X_test)\n",
    "X_test = remove_infrequent_words(X_test, words=discarded_words)\n",
    "X_test_word = vectorizer.transform(X_test)\n",
    "X_test_word = X_test_word.toarray()\n",
    "\n",
    "model = XGBClassifier()\n",
    "xgboost, best_params, best_score = model_random_search(X_train_word, y_train_word, X_val_word, y_val, model)\n",
    "\n",
    "y_pred = xgboost.predict(X_test_word)\n",
    "\n",
    "pprint(best_params)\n",
    "pprint( best_score)\n",
    "print(classification_report(y_test, y_pred))\n"
   ]
  },
  {
   "attachments": {},
   "cell_type": "markdown",
   "metadata": {},
   "source": [
    "## 5. [20 points] Perform text classification using learnt embeddings\n",
    "Here you should use RNNs. Here you need to start with random embedding vectors that will be learnt together with the main task."
   ]
  },
  {
   "cell_type": "code",
   "execution_count": 167,
   "metadata": {},
   "outputs": [],
   "source": [
    "from keras.preprocessing.text import Tokenizer\n",
    "from keras.utils import pad_sequences, to_categorical\n",
    "\n",
    "tokenizer = Tokenizer()\n",
    "tokenizer.fit_on_texts(X_train)\n",
    "\n",
    "def rnn_data_pipeline(X: np.array, y: np.array, max_sequence_length: int = None):\n",
    "    \"\"\"\n",
    "    Generates the data for the RNN\n",
    "    \"\"\"\n",
    "    \n",
    "    X_train_rnn = tokenizer.texts_to_sequences(X)\n",
    "    # Vocabulary size\n",
    "    vocab_size = len(tokenizer.word_index) + 1\n",
    "\n",
    "    # Pad sequences to a fixed length\n",
    "    if max_sequence_length is None:\n",
    "        max_sequence_length = max([len(seq) for seq in X_train_rnn])\n",
    "        \n",
    "    padded_X_train_rnn = pad_sequences(X_train_rnn, maxlen=max_sequence_length)\n",
    "    # hot encode the labels\n",
    "    y_train_rnn = to_categorical(y)\n",
    "    return padded_X_train_rnn, y_train_rnn, vocab_size, max_sequence_length\n",
    "    "
   ]
  },
  {
   "cell_type": "code",
   "execution_count": 168,
   "metadata": {},
   "outputs": [],
   "source": [
    "from keras.layers import Dense, Dropout, Embedding, LSTM, Bidirectional, Embedding, RNN\n",
    "from keras.models import Sequential\n",
    "\n",
    "# Create an instance of Tokenizer\n",
    "X_train_rnn = preprocess(X_train)\n",
    "X_train_rnn = remove_infrequent_words(X_train_rnn, words=discarded_words)\n",
    "X_train_rnn , y_train_rnn, vocab_size, max_sequence_length = rnn_data_pipeline(X_train_rnn, y_train)\n",
    "X_train_rnn, y_train_rnn = oversample(X_train_rnn, y_train_rnn)\n",
    "\n",
    "X_val = preprocess(X_val)\n",
    "X_val = remove_infrequent_words(X_val, words=discarded_words)\n",
    "X_val_rnn, y_val_rnn, _, _ = rnn_data_pipeline(X_val, y_val, max_sequence_length)\n",
    "\n"
   ]
  },
  {
   "cell_type": "code",
   "execution_count": 164,
   "metadata": {},
   "outputs": [
    {
     "name": "stdout",
     "output_type": "stream",
     "text": [
      "Epoch 1/30\n",
      "431/431 [==============================] - 51s 108ms/step - loss: 0.5305 - accuracy: 0.3842 - val_loss: 0.4454 - val_accuracy: 0.5679\n",
      "Epoch 2/30\n",
      "431/431 [==============================] - 25s 57ms/step - loss: 0.4845 - accuracy: 0.4325 - val_loss: 0.4110 - val_accuracy: 0.5893\n",
      "Epoch 3/30\n",
      "431/431 [==============================] - 22s 50ms/step - loss: 0.4658 - accuracy: 0.4806 - val_loss: 0.3985 - val_accuracy: 0.6143\n",
      "Epoch 4/30\n",
      "431/431 [==============================] - 21s 48ms/step - loss: 0.4499 - accuracy: 0.5168 - val_loss: 0.3979 - val_accuracy: 0.6071\n",
      "Epoch 5/30\n",
      "431/431 [==============================] - 995s 2s/step - loss: 0.4364 - accuracy: 0.5438 - val_loss: 0.4172 - val_accuracy: 0.6000\n",
      "Epoch 6/30\n",
      "431/431 [==============================] - 1770s 4s/step - loss: 0.4213 - accuracy: 0.5749 - val_loss: 0.4083 - val_accuracy: 0.6107\n",
      "Epoch 7/30\n",
      "431/431 [==============================] - 30s 69ms/step - loss: 0.4112 - accuracy: 0.5916 - val_loss: 0.4107 - val_accuracy: 0.5857\n",
      "Epoch 8/30\n",
      "431/431 [==============================] - 18s 42ms/step - loss: 0.3986 - accuracy: 0.6104 - val_loss: 0.4112 - val_accuracy: 0.6036\n",
      "Epoch 9/30\n",
      "431/431 [==============================] - ETA: 0s - loss: 0.3900 - accuracy: 0.6281Restoring model weights from the end of the best epoch: 4.\n",
      "431/431 [==============================] - 18s 41ms/step - loss: 0.3900 - accuracy: 0.6281 - val_loss: 0.4240 - val_accuracy: 0.5857\n",
      "Epoch 9: early stopping\n"
     ]
    }
   ],
   "source": [
    "from keras.callbacks import EarlyStopping\n",
    "\n",
    "\n",
    "model = Sequential()\n",
    "model.add(Embedding(vocab_size, 32, input_length=max_sequence_length))\n",
    "model.add(LSTM(16))\n",
    "model.add(Dropout(0.3))\n",
    "model.add(Dense(4, activation='softmax'))\n",
    "\n",
    "# Compile the model\n",
    "model.compile(optimizer='adam', loss='binary_crossentropy', metrics=['accuracy'])\n",
    "# Train the model\n",
    "\n",
    "early_stopping = EarlyStopping(monitor='val_loss', patience=5, verbose=1, restore_best_weights=True)\n",
    "history = model.fit(X_train_rnn, y_train_rnn, epochs=30, validation_data=(X_val_rnn, y_val_rnn), batch_size=16, callbacks=[early_stopping])\n"
   ]
  },
  {
   "cell_type": "code",
   "execution_count": 166,
   "metadata": {},
   "outputs": [
    {
     "name": "stdout",
     "output_type": "stream",
     "text": [
      "18/18 [==============================] - 1s 48ms/step\n",
      "              precision    recall  f1-score   support\n",
      "\n",
      "           0       0.59      0.44      0.50        55\n",
      "           1       0.25      0.31      0.28        45\n",
      "           2       0.84      0.74      0.79       369\n",
      "           3       0.28      0.43      0.34        91\n",
      "\n",
      "    accuracy                           0.62       560\n",
      "   macro avg       0.49      0.48      0.48       560\n",
      "weighted avg       0.68      0.62      0.64       560\n",
      "\n"
     ]
    }
   ],
   "source": [
    "X_test = preprocess(X_test)\n",
    "X_test = remove_infrequent_words(X_test, words=discarded_words)\n",
    "X_test_rnn, y_test_rnn, _, _ = rnn_data_pipeline(X_test, y_test, max_sequence_length)\n",
    "y_pred = model.predict(X_test_rnn)\n",
    "y_pred = np.argmax(y_pred, axis=1)\n",
    "print(classification_report(y_test, y_pred))"
   ]
  },
  {
   "attachments": {},
   "cell_type": "markdown",
   "metadata": {},
   "source": [
    "## 6. [BONUS: 15 points] Perform text classification using contextual embeddings such as BERT\n",
    "Here you should use RNNs or transformers"
   ]
  },
  {
   "attachments": {},
   "cell_type": "markdown",
   "metadata": {},
   "source": [
    "## [10 points] Document your conclusions on:\n",
    "- General conclusions about the task\n",
    "- Related to text preprocessing \n",
    "- Related to using different features/embeddings\n",
    "- Effect of different hyperparameters\n",
    "\n",
    "Write bullet points based report assuming you are presenting your conclusions to the project manager."
   ]
  },
  {
   "attachments": {},
   "cell_type": "markdown",
   "metadata": {},
   "source": [
    "### `General conclusions about the task`\n",
    "* The task is slightly difficult as the dataset is imbalanced and also given the large variation.\n",
    "* The solution to this is to add more data to the dataset and also to use a model that can understand the language and capture the pattern in the data.\n",
    "* However, given the aforementioned constraints, I have been able to achieve an accuracy of .61 and an F1 score of ..."
   ]
  },
  {
   "attachments": {},
   "cell_type": "markdown",
   "metadata": {},
   "source": [
    "### `Related to text preprocessing`\n",
    "* Most of the time was spent on preprocessing the data correctly which will reduce and unnecessary noise in the data.\n",
    "* The applied preprocessing was the following:\n",
    "    * lowercasing\n",
    "    * removing punctuation\n",
    "    * removing stop words\n",
    "    * removing infrequent words based on a statistical analysis\n",
    "    * lemmatization"
   ]
  },
  {
   "attachments": {},
   "cell_type": "markdown",
   "metadata": {},
   "source": [
    "### `Related to using different features/embeddings`\n",
    "* Different featurizations were used for the task:\n",
    "    * Bag of words\n",
    "    * TF-IDF\n",
    "    * Word2Vec\n",
    "    * RNN -> learned embeddings\n",
    "    <br>\n",
    "    <br>\n",
    "\n",
    "* Tf-idf has performed best with Xgboost Classifier with a macro average of 0.43\n",
    "* Learned embeddings and RNN have performed the worst with a macro average of 0.48\n"
   ]
  },
  {
   "attachments": {},
   "cell_type": "markdown",
   "metadata": {},
   "source": [
    "### `Effect of different hyperparameters`\n",
    "* RandomSearchCV was used to tune the hyperparameters of Xgboost Classifier and the following parameters were tuned:\n",
    "    * max_depth\n",
    "    * learning_rate\n",
    "    * n_estimators\n",
    "    * gamma\n",
    "    * min_child_weight\n",
    "    * subsample\n",
    "    * colsample_bytree\n",
    "    * reg_alpha\n",
    "    * reg_lambda\n",
    "    * scale_pos_weight\n",
    "    <br>\n",
    "    <br>\n",
    "\n",
    "* It is was observed that tuning does not help much as the the main issue was in the data.\n",
    "\n",
    "* Different Embedding sizes were tested for RNN along with different RNN neurons \n",
    "    * it was observed that 32 Embedding size and 16 RNN neurons performed the best."
   ]
  }
 ],
 "metadata": {
  "kernelspec": {
   "display_name": "Python 3",
   "language": "python",
   "name": "python3"
  },
  "language_info": {
   "codemirror_mode": {
    "name": "ipython",
    "version": 3
   },
   "file_extension": ".py",
   "mimetype": "text/x-python",
   "name": "python",
   "nbconvert_exporter": "python",
   "pygments_lexer": "ipython3",
   "version": "3.9.12"
  }
 },
 "nbformat": 4,
 "nbformat_minor": 4
}
